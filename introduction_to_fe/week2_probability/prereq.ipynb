{
 "cells": [
  {
   "attachments": {},
   "cell_type": "markdown",
   "metadata": {},
   "source": [
    "https://ocw.mit.edu/courses/18-s096-topics-in-mathematics-with-applications-in-finance-fall-2013/video_galleries/video-lectures/\n",
    "\n",
    "https://dlsun.github.io/probability/index.html \n",
    "\n",
    "https://ocw.mit.edu/courses/sloan-school-of-management/15-093j-optimization-methods-fall-2009/"
   ]
  },
  {
   "attachments": {},
   "cell_type": "markdown",
   "metadata": {},
   "source": [
    "Suppose you toss a fair coin 10 times, and random variable $X$ is the number of heads in total.  What's the mathematical expectation of $X$?\n",
    "- $E(x) = n \\cdot p = 10 * 0.5 = 5$\n",
    "\n",
    "\n",
    "Variance of $X$?\n",
    "- $Var(x) = n \\cdot p \\cdot (1-p) = 10 * 0.5 * 0.5 = 2.5$\n",
    "\n",
    "Suppose you toss two fair 6-face dice, and you get $Y_1$ and $Y_2$​. Let $X = Y1 + Y2$. Find the conditional probability $\\mathbb{P} [Y_2 \\ge 4 | X \\le 7]$. Round your answer to 3 decimal places.\n",
    "- $P[Y_2 \\ge 4 | X \\le 7] = \\frac {P[X \\le 7 | Y_2 \\ge 4] \\cdot P[Y_2 \\ge 4]} {P[X \\le 7]}$\n",
    "- Breaking down the constituent parts: \n",
    "    - $P[X \\le 7 | Y_2 \\ge 4]$\n",
    "        - If $Y_2 = 4$, then $Y_1$ can be 1,2,3\n",
    "        - If $Y_2 = 5$, then $Y_1$ can be 1,2\n",
    "        - If $Y_2 = 6$, then $Y_1$ can be 1\n",
    "        - Total 6 out of 3 * 6 = 18 cases will have $X \\le 7$\n",
    "        - Value is $\\frac {1}{3}$\n",
    "    - $P[Y_2 \\ge 4]$\n",
    "        - $\\frac{1}{2}$\n",
    "    - $P[X \\le 7]$\n",
    "        - Imagine a $6x6$ table of dice values. $X \\le 7$ is fulfilled in anything above the diagonal from the top right to the bottom left\n",
    "        - $\\frac{15}{36}$\n",
    "    - $\\frac{\\frac{1}{3} \\cdot \\frac{1}{2}} {\\frac{15}{36}} = 0.4$\n"
   ]
  },
  {
   "cell_type": "code",
   "execution_count": 33,
   "metadata": {},
   "outputs": [
    {
     "data": {
      "text/plain": [
       "<function __main__.<lambda>()>"
      ]
     },
     "execution_count": 33,
     "metadata": {},
     "output_type": "execute_result"
    }
   ],
   "source": [
    "my_dict = {\n",
    "    'key1': 10,\n",
    "    'key2': 20,\n",
    "    'key3': (lambda: exec(my_dict['key1']))\n",
    "}\n",
    "\n",
    "my_dict.get('key3')"
   ]
  },
  {
   "cell_type": "code",
   "execution_count": 23,
   "metadata": {},
   "outputs": [
    {
     "name": "stdout",
     "output_type": "stream",
     "text": [
      "<class '__main__.Child'>\n",
      "(<class '__main__.Parent'>, <class '__main__.AnotherParent'>)\n",
      "Superclass name: Parent\n"
     ]
    }
   ],
   "source": [
    "class Parent:\n",
    "    pass\n",
    "\n",
    "class AnotherParent:\n",
    "    pass\n",
    "\n",
    "class Child(Parent, AnotherParent):\n",
    "    def print_superclass_name(self):\n",
    "        superclass = type(self).__bases__[0]\n",
    "        print(type(self))\n",
    "        print(type(self).__bases__)\n",
    "        print(\"Superclass name:\", superclass.__name__)\n",
    "\n",
    "child = Child()\n",
    "child.print_superclass_name()  # Output: Superclass name: Parent"
   ]
  },
  {
   "cell_type": "code",
   "execution_count": 13,
   "metadata": {},
   "outputs": [
    {
     "name": "stdout",
     "output_type": "stream",
     "text": [
      "B\n",
      "super\n"
     ]
    },
    {
     "data": {
      "text/plain": [
       "'abc'"
      ]
     },
     "execution_count": 13,
     "metadata": {},
     "output_type": "execute_result"
    }
   ],
   "source": [
    "class A:\n",
    "    config = {\n",
    "        'B': 'abc'\n",
    "    }\n",
    "    def __init__(self):\n",
    "        print(self.__class__.__name__)\n",
    "\n",
    "class B(A):\n",
    "    def __init__(self):\n",
    "        self.name = super().config.get(self.__class__.__name__)\n",
    "        print(self.__class__.__name__)\n",
    "        print(super().__class__.__name__)\n",
    "    \n",
    "test=B()\n",
    "test.name"
   ]
  }
 ],
 "metadata": {
  "kernelspec": {
   "display_name": "leetcode",
   "language": "python",
   "name": "python3"
  },
  "language_info": {
   "codemirror_mode": {
    "name": "ipython",
    "version": 3
   },
   "file_extension": ".py",
   "mimetype": "text/x-python",
   "name": "python",
   "nbconvert_exporter": "python",
   "pygments_lexer": "ipython3",
   "version": "3.10.4"
  },
  "orig_nbformat": 4
 },
 "nbformat": 4,
 "nbformat_minor": 2
}
